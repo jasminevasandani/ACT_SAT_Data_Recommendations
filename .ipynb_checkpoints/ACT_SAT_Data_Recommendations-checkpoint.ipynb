{
 "cells": [
  {
   "cell_type": "markdown",
   "metadata": {},
   "source": [
    "# SAT & ACT Data: Analyzing test scores and participation rates from 2017-18"
   ]
  },
  {
   "cell_type": "markdown",
   "metadata": {},
   "source": [
    "## Problem Statement"
   ]
  },
  {
   "cell_type": "markdown",
   "metadata": {},
   "source": [
    "The SAT is the most taken college admission test$^{1}$, with 2,136,539 students$^{2}$ from the class of 2018 taking the test. Out of 3,651,200 total students in the class of 2018 in the US$^{3}$, that's 59% of graduating seniors who took the SAT. Does the SAT need to focus on increasing its participation rates? Or, given that over a majority of high school students are now taking this test as a way to get into college, how are they performing? Is the rise in SAT test-takers contributing to the rise of students going to college?  \n",
    "\n",
    "Citations:\n",
    "<br>\n",
    "1: https://www.collegeboard.org/releases/2018/more-than-2-million-students-in-class-of-2018-took-sat-highest-ever\n",
    "<br>\n",
    "2: https://www.edweek.org/ew/articles/2018/10/31/sat-scores-rise-as-number-of-test-takers.html\n",
    "<br>\n",
    "3: https://nces.ed.gov/programs/digest/d17/tables/dt17_219.10.asp"
   ]
  },
  {
   "cell_type": "markdown",
   "metadata": {},
   "source": [
    "### Contents:\n",
    "- [Description of the 2017 ACT and SAT data columns](#Description-of-the-2017-ACT-and-SAT-data-columns)\n",
    "- [2017 Data Import & Cleaning](#Data-Import-and-Cleaning)\n",
    "- [2018 Data Import and Cleaning](#2018-Data-Import-and-Cleaning)\n",
    "- [Exploratory Data Analysis](#Exploratory-Data-Analysis)\n",
    "- [Data Visualization](#Visualize-the-data)\n",
    "- [Descriptive and Inferential Statistics](#Descriptive-and-Inferential-Statistics)\n",
    "- [External Research](#External-Research)\n",
    "- [Conclusions and Recommendations](#Conclusions-and-Recommendations)\n",
    "***"
   ]
  },
  {
   "cell_type": "markdown",
   "metadata": {},
   "source": [
    "## Description of the 2017 ACT and SAT data columns"
   ]
  },
  {
   "cell_type": "markdown",
   "metadata": {},
   "source": [
    "**SAT 2017 & 2018 data**\n",
    "<br>\n",
    "The SAT 2017 dataset showcases the participation rates of high school students in the class of 2017 from all 50 states and the District of Columbia who took the SAT and how they performed on the SAT. The columns of the SAT 2017 dataset are:\n",
    "- State: Names of US states and the District of Columbia \n",
    "- Participation: The percentage of 2017 graduating seniors who took the SAT\n",
    "- Evidence-Based Reading and Writing (ERW): The mean score of this particular category of the SAT\n",
    "- Math: The mean score of this particular category of the SAT\n",
    "- Total: The sum of the mean scores of ERW and Math\n",
    "\n",
    "**ACT 2017 & 2018 data**\n",
    "<br>\n",
    "The ACT 2017 dataset showcases the participation rates of high school students in the class of 2018 from all 50 states and the District of Columbia who took the ACT and how they performed on the ACT. The columns of the ACT 2017 dataset are:\n",
    "- State: Names of US states and the District of Columbia \n",
    "- Participation: The percentage of 2018 graduating seniors who took the ACT\n",
    "- English: The mean score of this particular category of the ACT\n",
    "- Math: The mean score of this particular category of the ACT\n",
    "- Reading: The mean score of this particular category of the ACT\n",
    "- Science: The mean score of this particular category of the ACT\n",
    "- Composite: The mean score of all the categories mentioned above.\n",
    "\n",
    "Note: the ACT 2018 dataset contains only \"State,\" \"Participation,\" and \"Composite\" columns. "
   ]
  },
  {
   "cell_type": "markdown",
   "metadata": {},
   "source": [
    "#### Load Packages:"
   ]
  },
  {
   "cell_type": "code",
   "execution_count": null,
   "metadata": {},
   "outputs": [],
   "source": [
    "import numpy as np\n",
    "import matplotlib.pyplot as plt\n",
    "import scipy.stats as stats\n",
    "import pandas as pd\n",
    "import seaborn as sns\n",
    "import folium\n",
    "import os\n",
    "from IPython.display import HTML, display\n",
    "from IPython.display import Image\n",
    "\n",
    "#!pip install folium\n",
    "\n",
    "#%load_ext folium_magic\n",
    "%matplotlib inline\n",
    "%config InlineBackend.figure_format = 'retina'"
   ]
  },
  {
   "cell_type": "markdown",
   "metadata": {},
   "source": [
    "## 2017 Data Import and Cleaning"
   ]
  },
  {
   "cell_type": "markdown",
   "metadata": {},
   "source": [
    "### 1. SAT & ACT  Data Import"
   ]
  },
  {
   "cell_type": "code",
   "execution_count": null,
   "metadata": {},
   "outputs": [],
   "source": [
    "# Import csv into Pandas DataFrame and save into new variables\n",
    "\n",
    "sat_2017 = pd.read_csv('./data/sat_2017.csv')\n",
    "act_2017 = pd.read_csv('./data/act_2017.csv')"
   ]
  },
  {
   "cell_type": "markdown",
   "metadata": {},
   "source": [
    "### 2a. Display Data: SAT 2017\n"
   ]
  },
  {
   "cell_type": "code",
   "execution_count": null,
   "metadata": {
    "scrolled": false
   },
   "outputs": [],
   "source": [
    "# The first ten rows of sat_2017\n",
    "\n",
    "sat_2017.head(10)"
   ]
  },
  {
   "cell_type": "markdown",
   "metadata": {},
   "source": [
    "### 2b. Display Data: ACT 2017"
   ]
  },
  {
   "cell_type": "code",
   "execution_count": null,
   "metadata": {
    "scrolled": true
   },
   "outputs": [],
   "source": [
    "#The first ten rows of act_2017\n",
    "\n",
    "act_2017.head(10)"
   ]
  },
  {
   "cell_type": "markdown",
   "metadata": {},
   "source": [
    "### 3. Datatypes\n"
   ]
  },
  {
   "cell_type": "code",
   "execution_count": null,
   "metadata": {},
   "outputs": [],
   "source": [
    "# Datatypes of sat_2017\n",
    "\n",
    "sat_2017.dtypes"
   ]
  },
  {
   "cell_type": "code",
   "execution_count": null,
   "metadata": {
    "scrolled": true
   },
   "outputs": [],
   "source": [
    "# Datatypes of act_2017\n",
    "\n",
    "act_2017.dtypes"
   ]
  },
  {
   "cell_type": "markdown",
   "metadata": {},
   "source": [
    "### 4a. Stating the errors in the data."
   ]
  },
  {
   "cell_type": "markdown",
   "metadata": {},
   "source": [
    "In the sat_2017 dataset, the \"Participation\" values are percentages, but they are processing as strings. In the act_2017 dataset, the \"Participation\" values are percentages, but they are also processing as strings. Also, the \"Composite\" score should be a float, but it is processing as a string."
   ]
  },
  {
   "cell_type": "markdown",
   "metadata": {},
   "source": [
    "### 4b. Fixing incorrect datatypes in SAT 2017 data."
   ]
  },
  {
   "cell_type": "code",
   "execution_count": null,
   "metadata": {},
   "outputs": [],
   "source": [
    "# A function to convert percentage strings to floats. \n",
    "\n",
    "def convert_percent_to_float(df, column_name):\n",
    "    df[column_name] = df[column_name].map(lambda par_cell: par_cell.replace('%', '')) # Remove percentage sign \n",
    "    df[column_name] = df[column_name].astype(float)                                   # Convert string to float\n",
    "    df[column_name] = df[column_name].map(lambda par_cell: par_cell/100)              # Divide number by 100\n",
    "    print(df[column_name].dtypes)                                                     # Print column dtype to ensure the change has been made.\n",
    "    return (df[column_name].head())                                                   # Return column head to check data.\n",
    "\n"
   ]
  },
  {
   "cell_type": "code",
   "execution_count": null,
   "metadata": {
    "scrolled": true
   },
   "outputs": [],
   "source": [
    "# Calling the function to turn Percentage into float values \n",
    "\n",
    "convert_percent_to_float(sat_2017, 'Participation')"
   ]
  },
  {
   "cell_type": "markdown",
   "metadata": {},
   "source": [
    "### 4c. Fixing incorrect datatypes in ACT 2017 data."
   ]
  },
  {
   "cell_type": "code",
   "execution_count": null,
   "metadata": {
    "scrolled": true
   },
   "outputs": [],
   "source": [
    "# Convert percentage strings to floats.\n",
    "\n",
    "convert_percent_to_float(act_2017, 'Participation')"
   ]
  },
  {
   "cell_type": "code",
   "execution_count": null,
   "metadata": {},
   "outputs": [],
   "source": [
    "# act_2017 composite scores are strings because one value contains a letter: \"20.2x\"\n",
    "\n",
    "# Remove 'x'\n",
    "act_2017['Composite'] = act_2017['Composite'].map(lambda com_cell: com_cell.replace('x',''))\n",
    "\n",
    "# Convert column to float\n",
    "act_2017['Composite'] = act_2017['Composite'].astype(float)"
   ]
  },
  {
   "cell_type": "markdown",
   "metadata": {},
   "source": [
    "### 4d. Checking the Min/Max to ensure all values are within range."
   ]
  },
  {
   "cell_type": "markdown",
   "metadata": {},
   "source": [
    "**Checking the Min/Max Values in SAT 2017**: The range of scores for the [SAT](https://blog.collegevine.com/here-are-the-average-sat-scores-by-state/) Math and ERW sections is 200-800. "
   ]
  },
  {
   "cell_type": "code",
   "execution_count": null,
   "metadata": {},
   "outputs": [],
   "source": [
    "#Minimum values in the sat_2017 dataset. \n",
    "\n",
    "print(sat_2017.min())"
   ]
  },
  {
   "cell_type": "code",
   "execution_count": null,
   "metadata": {},
   "outputs": [],
   "source": [
    "#Maximum values in the sat_2017 dataset. \n",
    "\n",
    "print(sat_2017.max())"
   ]
  },
  {
   "cell_type": "markdown",
   "metadata": {},
   "source": [
    "After reviewing the min and max for the sat_2017 dataset, there appears to be an error: \n",
    "- The minimum value for \"Math\" is 52, which is below the minimum value in the range 200-800"
   ]
  },
  {
   "cell_type": "code",
   "execution_count": null,
   "metadata": {
    "scrolled": true
   },
   "outputs": [],
   "source": [
    "sat_2017.sort_values(['Math']).head(1)\n",
    "\n",
    "# The lowest value in Math, 52, needs to be changed. \n",
    "# Subtract the Writing score from the Total to find the real value of Math, which is 524."
   ]
  },
  {
   "cell_type": "code",
   "execution_count": null,
   "metadata": {},
   "outputs": [],
   "source": [
    "# Find the row and column where the number needs to change, and assign new number. \n",
    "\n",
    "sat_2017.loc[20, 'Math'] = 524"
   ]
  },
  {
   "cell_type": "code",
   "execution_count": null,
   "metadata": {},
   "outputs": [],
   "source": [
    "# Check to see if the number was replaced. \n",
    "\n",
    "sat_2017['Math'][20]"
   ]
  },
  {
   "cell_type": "markdown",
   "metadata": {},
   "source": [
    "**Checking the Min/Max Values in ACT 2017**: The range of scores for the [ACT](https://blog.prepscholar.com/act-scores-by-state-averages-highs-and-lows) for all categories is 1-36."
   ]
  },
  {
   "cell_type": "code",
   "execution_count": null,
   "metadata": {},
   "outputs": [],
   "source": [
    "act_2017.head()"
   ]
  },
  {
   "cell_type": "code",
   "execution_count": null,
   "metadata": {},
   "outputs": [],
   "source": [
    "#Minimum values in the act_2017 dataset. \n",
    "\n",
    "print(act_2017.min())"
   ]
  },
  {
   "cell_type": "code",
   "execution_count": null,
   "metadata": {},
   "outputs": [],
   "source": [
    "#Maximum values in the act_2017 dataset. \n",
    "\n",
    "print(act_2017.max())"
   ]
  },
  {
   "cell_type": "markdown",
   "metadata": {},
   "source": [
    "The minimum and maximum values in the ACT 2017 dataset appear to be within range. "
   ]
  },
  {
   "cell_type": "markdown",
   "metadata": {},
   "source": [
    "### 4e. Checking that the number of rows in each dataset are aligned. "
   ]
  },
  {
   "cell_type": "markdown",
   "metadata": {},
   "source": [
    "There is one extra row in ACT."
   ]
  },
  {
   "cell_type": "code",
   "execution_count": null,
   "metadata": {
    "scrolled": true
   },
   "outputs": [],
   "source": [
    "# The 52 rows in act_2017 are attributed to all 50 US states, the District of Columbia, and 'National'.\n",
    "\n",
    "act_2017_row, act_2017_col = act_2017.shape\n",
    "print((\"Number of rows in ACT 2017: {}.\").format(act_2017_row))\n",
    "# print(list(act_2017['State']))"
   ]
  },
  {
   "cell_type": "code",
   "execution_count": null,
   "metadata": {},
   "outputs": [],
   "source": [
    "# The 51 rows in sat_2017 are attributed to all 50 US states and the District of Columbia.\n",
    "\n",
    "sat_2017_row, sat_2017_col = sat_2017.shape\n",
    "print((\"Number of rows in SAT 2017: {}.\").format(sat_2017_row))\n",
    "# print(list(sat_2017['State']))"
   ]
  },
  {
   "cell_type": "code",
   "execution_count": null,
   "metadata": {},
   "outputs": [],
   "source": [
    "# Remove the 'National' row in ACT 2017 dataset, which is in the 0th row.\n",
    "\n",
    "act_2017.drop(index=0, inplace=True)"
   ]
  },
  {
   "cell_type": "code",
   "execution_count": null,
   "metadata": {},
   "outputs": [],
   "source": [
    "# Check the number of rows, columns to ensure that the row was dropped and there are 51 rows.\n",
    "\n",
    "act_2017.shape"
   ]
  },
  {
   "cell_type": "markdown",
   "metadata": {},
   "source": [
    "### **5. Preview the data after errors have been fixed.**"
   ]
  },
  {
   "cell_type": "code",
   "execution_count": null,
   "metadata": {
    "scrolled": true
   },
   "outputs": [],
   "source": [
    "#The first 10 rows of the SAT 2017 dataset.\n",
    "\n",
    "sat_2017.head(10)"
   ]
  },
  {
   "cell_type": "code",
   "execution_count": null,
   "metadata": {
    "scrolled": true
   },
   "outputs": [],
   "source": [
    "#The first 10 rows of the ACT 2017 dataset.\n",
    "\n",
    "act_2017.head(10)"
   ]
  },
  {
   "cell_type": "markdown",
   "metadata": {},
   "source": [
    "### 6. Rename Columns"
   ]
  },
  {
   "cell_type": "markdown",
   "metadata": {},
   "source": [
    "#### SAT 2017 Column Renaming"
   ]
  },
  {
   "cell_type": "code",
   "execution_count": null,
   "metadata": {},
   "outputs": [],
   "source": [
    "# Create a dictionary to change names, and specify test type and year. \n",
    "\n",
    "sat_new_columns_dict = {'State':'state',\n",
    "                        'Participation': 'sat_participation_17',\n",
    "                        'Evidence-Based Reading and Writing': 'sat_ewb_17',\n",
    "                        'Math': 'sat_math_17',\n",
    "                        'Total': 'sat_total_17'}\n",
    "\n",
    "sat_2017.rename(columns=sat_new_columns_dict, inplace=True)"
   ]
  },
  {
   "cell_type": "code",
   "execution_count": null,
   "metadata": {},
   "outputs": [],
   "source": [
    "# Call the columns again to ensure all changes were made. \n",
    "\n",
    "sat_2017.columns"
   ]
  },
  {
   "cell_type": "markdown",
   "metadata": {},
   "source": [
    "#### ACT 2017 Column Renaming"
   ]
  },
  {
   "cell_type": "code",
   "execution_count": null,
   "metadata": {},
   "outputs": [],
   "source": [
    "# Call ACT 2017 column names for reference.\n",
    "\n",
    "act_2017.columns"
   ]
  },
  {
   "cell_type": "code",
   "execution_count": null,
   "metadata": {},
   "outputs": [],
   "source": [
    "# Create a dictionary to change names, and specify test type and year. \n",
    "\n",
    "act_new_columns_dict = {\n",
    "        'State':'state',\n",
    "        'Participation': 'act_participation_17',\n",
    "        'English': 'act_english_17',\n",
    "        'Math': 'act_math_17',\n",
    "        'Reading': 'act_reading_17',\n",
    "        'Science': 'act_science_17',\n",
    "        'Composite': 'act_composite_17'\n",
    "        \n",
    "    }\n",
    "\n",
    "act_2017.rename(columns=act_new_columns_dict, inplace=True)"
   ]
  },
  {
   "cell_type": "code",
   "execution_count": null,
   "metadata": {},
   "outputs": [],
   "source": [
    "# Call the columns again to ensure all changes were made. \n",
    "\n",
    "act_2017.columns"
   ]
  },
  {
   "cell_type": "markdown",
   "metadata": {},
   "source": [
    "### 7. Merge Dataframes\n",
    "\n",
    "Join the 2017 ACT and SAT dataframes using the state in each dataframe as the key. Assign this to a new variable."
   ]
  },
  {
   "cell_type": "code",
   "execution_count": null,
   "metadata": {},
   "outputs": [],
   "source": [
    "# Join the 2017 ACT and SAT dataframes using the state in each dataframe as the key. \n",
    "\n",
    "combined_2017_csv = pd.merge(sat_2017, act_2017, on='state')\n"
   ]
  },
  {
   "cell_type": "markdown",
   "metadata": {},
   "source": [
    "### 8. Cleaned and merged data for SAT 2017 and ACT 2017."
   ]
  },
  {
   "cell_type": "code",
   "execution_count": null,
   "metadata": {
    "scrolled": true
   },
   "outputs": [],
   "source": [
    "# The first five rows of the merged dataset.\n",
    "\n",
    "print(combined_2017_csv.shape)\n",
    "combined_2017_csv.head()"
   ]
  },
  {
   "cell_type": "code",
   "execution_count": null,
   "metadata": {},
   "outputs": [],
   "source": [
    "# Create combined_2017.csv file \n",
    "\n",
    "combined_2017_csv.to_csv('./data/combined_2017.csv')"
   ]
  },
  {
   "cell_type": "markdown",
   "metadata": {},
   "source": [
    "## 2018 Data Import and Cleaning"
   ]
  },
  {
   "cell_type": "markdown",
   "metadata": {},
   "source": [
    "Links to the 2018 ACT and SAT data are provided in the README. These data live in PDFs, and so you'll get to enjoy practicing some *manual* data collection. Save these data as a CSV in your `data` directory, and import, explore, and clean these data in the same way you did above. **Make sure you comment on your steps so it is clear *why* you are doing each process**."
   ]
  },
  {
   "cell_type": "markdown",
   "metadata": {},
   "source": [
    "### 9. SAT & ACT  Data Import"
   ]
  },
  {
   "cell_type": "code",
   "execution_count": null,
   "metadata": {},
   "outputs": [],
   "source": [
    "# Import csv into Pandas DataFrame and save into new variables\n",
    "\n",
    "sat_2018 = pd.read_csv('./data/sat_2018.csv')\n",
    "act_2018 = pd.read_csv('./data/act_2018.csv')"
   ]
  },
  {
   "cell_type": "markdown",
   "metadata": {},
   "source": [
    "### 10a. Display Data: SAT 2018"
   ]
  },
  {
   "cell_type": "code",
   "execution_count": null,
   "metadata": {
    "scrolled": true
   },
   "outputs": [],
   "source": [
    "# The first ten rows of sat_2018\n",
    "\n",
    "sat_2018.head(10)"
   ]
  },
  {
   "cell_type": "markdown",
   "metadata": {},
   "source": [
    "### 10b. Display Data: ACT 2018"
   ]
  },
  {
   "cell_type": "code",
   "execution_count": null,
   "metadata": {
    "scrolled": true
   },
   "outputs": [],
   "source": [
    "#The first ten rows of act_2018\n",
    "\n",
    "act_2018.head(10)"
   ]
  },
  {
   "cell_type": "markdown",
   "metadata": {},
   "source": [
    "### 12. Datatypes"
   ]
  },
  {
   "cell_type": "code",
   "execution_count": null,
   "metadata": {},
   "outputs": [],
   "source": [
    "# Datatypes of sat_2018\n",
    "\n",
    "sat_2018.dtypes"
   ]
  },
  {
   "cell_type": "code",
   "execution_count": null,
   "metadata": {},
   "outputs": [],
   "source": [
    "# Datatypes of act_2018\n",
    "\n",
    "act_2018.dtypes"
   ]
  },
  {
   "cell_type": "markdown",
   "metadata": {},
   "source": [
    "### 13a. Stating the errors in the data."
   ]
  },
  {
   "cell_type": "markdown",
   "metadata": {},
   "source": [
    "In the sat_2018 dataset, the \"Participation\" values are percentages, but they are processing as strings. In the act_2018 dataset, the \"Participation\" values are percentages, but they are also processing as strings. "
   ]
  },
  {
   "cell_type": "markdown",
   "metadata": {},
   "source": [
    "### 13b. Fixing incorrect datatypes in SAT 2018 data."
   ]
  },
  {
   "cell_type": "code",
   "execution_count": null,
   "metadata": {},
   "outputs": [],
   "source": [
    "# A function to convert percentage strings to floats. \n",
    "\n",
    "# Calling the function to turn Percentage into float values \n",
    "\n",
    "convert_percent_to_float(sat_2018, 'Participation')"
   ]
  },
  {
   "cell_type": "code",
   "execution_count": null,
   "metadata": {},
   "outputs": [],
   "source": [
    "# Checking the Participation column to ensure all numbers are now floats. \n",
    "\n",
    "sat_2018['Participation'].head()"
   ]
  },
  {
   "cell_type": "code",
   "execution_count": null,
   "metadata": {
    "scrolled": true
   },
   "outputs": [],
   "source": [
    "# Check sat_2018 dtypes to ensure all datatypes are correct. \n",
    "\n",
    "sat_2018.dtypes"
   ]
  },
  {
   "cell_type": "markdown",
   "metadata": {},
   "source": [
    "### 13c. Fixing incorrect datatypes in ACT 2018 data."
   ]
  },
  {
   "cell_type": "code",
   "execution_count": null,
   "metadata": {},
   "outputs": [],
   "source": [
    "# Convert percentage strings to floats.\n",
    "\n",
    "convert_percent_to_float(act_2018, 'Participation')"
   ]
  },
  {
   "cell_type": "code",
   "execution_count": null,
   "metadata": {},
   "outputs": [],
   "source": [
    "# Check act_2018 dtypes to ensure all datatypes are correct. \n",
    "\n",
    "act_2018.dtypes"
   ]
  },
  {
   "cell_type": "markdown",
   "metadata": {},
   "source": [
    "### 13d. Checking the Min/Max to ensure all values are within range.\n",
    "**Checking the Min/Max Values in SAT 2018**: The range of scores for the [SAT](https://blog.collegevine.com/here-are-the-average-sat-scores-by-state/) Math and ERW sections is 200-800. "
   ]
  },
  {
   "cell_type": "code",
   "execution_count": null,
   "metadata": {},
   "outputs": [],
   "source": [
    "#Minimum values in the sat_2018 dataset. \n",
    "\n",
    "print(sat_2018.min())"
   ]
  },
  {
   "cell_type": "code",
   "execution_count": null,
   "metadata": {},
   "outputs": [],
   "source": [
    "#Maximum values in the sat_2018 dataset. \n",
    "\n",
    "print(sat_2018.max())"
   ]
  },
  {
   "cell_type": "markdown",
   "metadata": {},
   "source": [
    "**Checking the Min/Max Values in ACT 2018**: The range of scores for the [ACT](https://blog.prepscholar.com/act-scores-by-state-averages-highs-and-lows) for all categories is 1-36."
   ]
  },
  {
   "cell_type": "code",
   "execution_count": null,
   "metadata": {},
   "outputs": [],
   "source": [
    "#Minimum values in the act_2018 dataset. \n",
    "\n",
    "print(act_2018.min())"
   ]
  },
  {
   "cell_type": "code",
   "execution_count": null,
   "metadata": {},
   "outputs": [],
   "source": [
    "#Maximum values in the act_2018 dataset. \n",
    "\n",
    "print(act_2018.max())"
   ]
  },
  {
   "cell_type": "markdown",
   "metadata": {},
   "source": [
    "The minimum and maximum values in the ACT 2017 dataset appear to be within range. "
   ]
  },
  {
   "cell_type": "markdown",
   "metadata": {},
   "source": [
    "### 13e. Checking that the number of rows in each dataset are aligned. \n",
    "There is one extra row in ACT 2018 dataset"
   ]
  },
  {
   "cell_type": "code",
   "execution_count": null,
   "metadata": {},
   "outputs": [],
   "source": [
    "# The 52 rows in act_2018 are attributed to all 50 US states, the District of Columbia, and 'National'.\n",
    "\n",
    "act_2018_row, act_2018_col = act_2018.shape\n",
    "print((\"Number of rows in ACT 2018: {}.\").format(act_2018_row))\n",
    "print(list(act_2018['State'].sort_values()))\n",
    "\n"
   ]
  },
  {
   "cell_type": "markdown",
   "metadata": {},
   "source": [
    "#### Fixing quick spelling mistakes in ACT 2018 and SAT 2018 state names."
   ]
  },
  {
   "cell_type": "code",
   "execution_count": null,
   "metadata": {},
   "outputs": [],
   "source": [
    "# Find the row and column where the number needs to change, and assign correct spellings. \n",
    "\n",
    "act_2018.loc[13, 'State'] = 'District of Columbia'"
   ]
  },
  {
   "cell_type": "code",
   "execution_count": null,
   "metadata": {},
   "outputs": [],
   "source": [
    "# Check to see if the spelling was corrected. \n",
    "# act_2018['State'][13]"
   ]
  },
  {
   "cell_type": "code",
   "execution_count": null,
   "metadata": {},
   "outputs": [],
   "source": [
    "# Find the row and column where the number needs to change, and assign correct spellings. \n",
    "\n",
    "sat_2018.loc[10, 'State'] = 'Mississippi'\n"
   ]
  },
  {
   "cell_type": "code",
   "execution_count": null,
   "metadata": {},
   "outputs": [],
   "source": [
    "# Check to see if the spelling was corrected. \n",
    "# sat_2018['State'][10]"
   ]
  },
  {
   "cell_type": "code",
   "execution_count": null,
   "metadata": {},
   "outputs": [],
   "source": [
    "# Find the row and column where the number needs to change, and assign correct spellings. \n",
    "\n",
    "sat_2018.loc[37, 'State'] = 'Oklahoma'"
   ]
  },
  {
   "cell_type": "code",
   "execution_count": null,
   "metadata": {},
   "outputs": [],
   "source": [
    "# Check to see if the spelling was corrected. \n",
    "# sat_2018['State'][37]"
   ]
  },
  {
   "cell_type": "markdown",
   "metadata": {},
   "source": [
    "Check the number of rows in SAT 2018 dataset"
   ]
  },
  {
   "cell_type": "code",
   "execution_count": null,
   "metadata": {
    "scrolled": true
   },
   "outputs": [],
   "source": [
    "# The 51 rows in sat_2018  are attributed to all 50 US states and the District of Columbia.\n",
    "\n",
    "sat_2018_row, sat_2018_col = sat_2018.shape\n",
    "print((\"Number of rows in SAT 2018: {}.\").format(sat_2018_row))\n",
    "#print(list(sat_2018['State'].sort_values()))"
   ]
  },
  {
   "cell_type": "code",
   "execution_count": null,
   "metadata": {},
   "outputs": [],
   "source": [
    "# Find what the index # of 'National' is.\n",
    "\n",
    "act_2018.loc[act_2018['State']=='National'].index.values"
   ]
  },
  {
   "cell_type": "code",
   "execution_count": null,
   "metadata": {},
   "outputs": [],
   "source": [
    "# Remove the 'National' row in ACT 2018 dataset, which is in the 27th row.\n",
    "\n",
    "act_2018.drop(index=27, inplace=True)"
   ]
  },
  {
   "cell_type": "code",
   "execution_count": null,
   "metadata": {},
   "outputs": [],
   "source": [
    "# Check the number of rows, columns to ensure that the row was dropped and there are 51 rows.\n",
    "act_2018.shape"
   ]
  },
  {
   "cell_type": "markdown",
   "metadata": {},
   "source": [
    "### 14. Preview the data after errors have been fixed."
   ]
  },
  {
   "cell_type": "code",
   "execution_count": null,
   "metadata": {
    "scrolled": true
   },
   "outputs": [],
   "source": [
    "#Check sat_2018. The state names are not alphabetized.\n",
    "\n",
    "sat_2018.head()"
   ]
  },
  {
   "cell_type": "code",
   "execution_count": null,
   "metadata": {},
   "outputs": [],
   "source": [
    "#Alphabetize data by State names. \n",
    "\n",
    "sat_2018.sort_values('State', inplace=True)"
   ]
  },
  {
   "cell_type": "code",
   "execution_count": null,
   "metadata": {},
   "outputs": [],
   "source": [
    "# Reset index numbers so that they match the new alphabetization of State names. \n",
    "\n",
    "sat_2018.reset_index(drop=True, inplace=True)"
   ]
  },
  {
   "cell_type": "code",
   "execution_count": null,
   "metadata": {},
   "outputs": [],
   "source": [
    "#Alphabetize data by State names. \n",
    "\n",
    "act_2018.sort_values('State', inplace=True)"
   ]
  },
  {
   "cell_type": "code",
   "execution_count": null,
   "metadata": {},
   "outputs": [],
   "source": [
    "# Reset index numbers so that they match the new alphabetization of State names. \n",
    "\n",
    "act_2018.reset_index(drop=True, inplace=True)"
   ]
  },
  {
   "cell_type": "markdown",
   "metadata": {},
   "source": [
    "### 15. Rename Columns"
   ]
  },
  {
   "cell_type": "markdown",
   "metadata": {},
   "source": [
    "#### SAT 2018 Column Renaming\n"
   ]
  },
  {
   "cell_type": "code",
   "execution_count": null,
   "metadata": {},
   "outputs": [],
   "source": [
    "# Call sat_2018 column names for reference.\n",
    "\n",
    "# sat_2018.columns"
   ]
  },
  {
   "cell_type": "code",
   "execution_count": null,
   "metadata": {},
   "outputs": [],
   "source": [
    "# Create a dictionary to change names, and specify test type and year. \n",
    "\n",
    "sat_2018_col_dict = {\n",
    "        'State':'state',\n",
    "        'Participation': 'sat_participation_18',\n",
    "        'Evidence-Based Reading and Writing': 'sat_ewb_18',\n",
    "        'Math': 'sat_math_18',\n",
    "        'Total': 'sat_total_18'\n",
    "        \n",
    "    }\n",
    "\n",
    "sat_2018.rename(columns=sat_2018_col_dict, inplace=True)"
   ]
  },
  {
   "cell_type": "code",
   "execution_count": null,
   "metadata": {},
   "outputs": [],
   "source": [
    "# Call the columns again to ensure all changes were made. \n",
    "\n",
    "sat_2018.columns"
   ]
  },
  {
   "cell_type": "markdown",
   "metadata": {},
   "source": [
    "#### ACT 2018 Column Renaming"
   ]
  },
  {
   "cell_type": "code",
   "execution_count": null,
   "metadata": {},
   "outputs": [],
   "source": [
    "# Create a dictionary to change names, and specify test type and year. \n",
    "\n",
    "act_2018_col_dict = {\n",
    "        'State':'state',\n",
    "        'Participation': 'act_participation_18',\n",
    "        'English': 'act_english_18',\n",
    "        'Math': 'act_math_18',\n",
    "        'Reading': 'act_reading_18',\n",
    "        'Science': 'act_science_18',\n",
    "        'Composite': 'act_composite_18'\n",
    "        \n",
    "    }\n",
    "\n",
    "act_2018.rename(columns=act_2018_col_dict, inplace=True)\n"
   ]
  },
  {
   "cell_type": "code",
   "execution_count": null,
   "metadata": {},
   "outputs": [],
   "source": [
    "# Call the columns again to ensure all changes were made. \n",
    "\n",
    "act_2018.columns"
   ]
  },
  {
   "cell_type": "markdown",
   "metadata": {},
   "source": [
    "### 16. Merge 2017 and 2018 data into a single dataframe"
   ]
  },
  {
   "cell_type": "code",
   "execution_count": null,
   "metadata": {},
   "outputs": [],
   "source": [
    "# Join the act_2018 and sat_2018 into combined_2018_csv using the state in each dataframe as the key. \n",
    "\n",
    "combined_2018_csv = pd.merge(sat_2018, act_2018, on='state')"
   ]
  },
  {
   "cell_type": "code",
   "execution_count": null,
   "metadata": {},
   "outputs": [],
   "source": [
    "# Join the combined_2018_csv and combined_2017_csv into final_csv using the state in each dataframe as the key. \n",
    "\n",
    "final_csv = pd.merge(combined_2018_csv, combined_2017_csv, on='state')"
   ]
  },
  {
   "cell_type": "markdown",
   "metadata": {},
   "source": [
    "#### Save merged datasets"
   ]
  },
  {
   "cell_type": "code",
   "execution_count": null,
   "metadata": {},
   "outputs": [],
   "source": [
    "# The first five rows of the merged dataset.\n",
    "\n",
    "print(final_csv.shape)\n",
    "final_csv.head()"
   ]
  },
  {
   "cell_type": "code",
   "execution_count": null,
   "metadata": {},
   "outputs": [],
   "source": [
    "# Create final_csv.csv file \n",
    "\n",
    "final_csv.to_csv('./data/final_csv.csv')"
   ]
  },
  {
   "cell_type": "markdown",
   "metadata": {},
   "source": [
    "## Exploratory Data Analysis\n",
    "\n",
    "\n",
    "### Summary Statistics"
   ]
  },
  {
   "cell_type": "code",
   "execution_count": null,
   "metadata": {
    "scrolled": true
   },
   "outputs": [],
   "source": [
    "# Calling the describe feature to showcase summary statistics for final_csv\n",
    "\n",
    "final_csv.describe().round(2)"
   ]
  },
  {
   "cell_type": "markdown",
   "metadata": {},
   "source": [
    "#### Standard deviation\n",
    "\n",
    "$$\\sigma = \\sqrt{\\frac{1}{n}\\sum_{i=1}^n(x_i - \\mu)^2}$$"
   ]
  },
  {
   "cell_type": "code",
   "execution_count": null,
   "metadata": {},
   "outputs": [],
   "source": [
    "def get_std(list_to_use):\n",
    "    is_mean = sum(list_to_use)/len(list_to_use)\n",
    "    #return mean\n",
    "    sum_of_sq_vals = 0\n",
    "    for i in list_to_use:\n",
    "        subt = i - is_mean\n",
    "        sq = subt ** 2\n",
    "        sum_of_sq_vals += sq\n",
    "    num_vals = list_to_use.size\n",
    "    stdev = sum_of_sq_vals / num_vals\n",
    "    final_stdev = stdev ** .5\n",
    "    #print(\"Function std is:\", final_stdev)\n",
    "    return final_stdev"
   ]
  },
  {
   "cell_type": "code",
   "execution_count": null,
   "metadata": {},
   "outputs": [],
   "source": [
    "# Dictionary comprehension to apply std to each numeric column in the dataframe. \n",
    "\n",
    "sd = {col: round(get_std(final_csv[col]),6) for col in final_csv.columns if ((final_csv[col].dtype == float) | (final_csv[col].dtype == 'int64'))} \n",
    "sd"
   ]
  },
  {
   "cell_type": "markdown",
   "metadata": {},
   "source": [
    "**Note**: Pandas takes standard deviation of a sample (n-1), but our datasets are from a population of students."
   ]
  },
  {
   "cell_type": "markdown",
   "metadata": {},
   "source": [
    "#### Investigating trends in the data\n",
    "\n",
    "- **The following states have the highest and lowest participation rates for the:**\n",
    "    - **2017 SAT:** \n",
    "      - Highest: Connecticut, Delaware, D.C., Michigan\n",
    "      - Lowest: North Dakota, Mississippi, Iowa\n",
    "    - **2018 SAT:**\n",
    "      - Highest: Colorado, Connecticut, Delaware, Idaho, Michigan\n",
    "      - Lowest: North Dakota\n",
    "    - **2017 ACT:** \n",
    "      - Highest: Alabama, Arkansas, Colorado, Kentucky, Louisiana, Minnesota, Missouri, Montana, Nevada, North Carolina, Oklahoma, South Carolina, Tennessee, Utah, Wisconsin, Wyoming\n",
    "      - Lowest: Maine\n",
    "    - **2018 ACT:** \n",
    "      - Highest: Alabama, Arkansas, Kentucky, Louisiana, Mississippi, Missouri, Montana, Nebraska, Nevada, North Carolina, Ohio, Oklahoma, South Carolina, Tennessee, Utah, Wisconsin, Wyoming\n",
    "      - Lowest: Maine\n",
    "<br>\n",
    "<br>\n",
    "- **The following states have the highest and lowest mean total/composite scores for the:**\n",
    "    - **2017 SAT:**\n",
    "      - Highest: Minnesota\n",
    "      - Lowest: D.C.\n",
    "    - **2018 SAT:**\n",
    "        - Highest: Minnesota\n",
    "        - Lowest: D.C.\n",
    "    - **2017 ACT:**\n",
    "        - Highest: New Hampshire\n",
    "        - Lowest: Nevada\n",
    "    - **2018 ACT:**\n",
    "        - Highest: Connecticut\n",
    "        - Lowest: Nevada\n",
    "<br>\n",
    "<br>\n",
    "- **The following states had a 100% participation rate in 2017 but not in 2018:**\n",
    "  - **SAT:** D.C.\n",
    "  - **ACT:** Colorado, Minnesota\n",
    "<br>\n",
    "<br>\n",
    "- **Oregon had >50% participation on both tests for all years.** \n",
    "\n",
    "**Additional Observations:**\n",
    "- SAT: \n",
    " - DC had 100% and 92% participation rates in 2017 and 2018 respectively, but performed the poorest in both years. \n",
    "\n",
    "- ACT:\n",
    " - Nevada had 100% participation rates in 2017 and 2018, but performed the poorest in both years. \n"
   ]
  },
  {
   "cell_type": "markdown",
   "metadata": {},
   "source": [
    "## Data Visualization"
   ]
  },
  {
   "cell_type": "code",
   "execution_count": null,
   "metadata": {},
   "outputs": [],
   "source": [
    "plt.figure(figsize=(10, 10))\n",
    "plt.title('Correlation of all data from SAT and ACT 2017-18', size=16)\n",
    "sns.heatmap(final_csv.corr(), annot = True, cmap = 'bone');"
   ]
  },
  {
   "cell_type": "markdown",
   "metadata": {},
   "source": [
    "The correlation between test score totals and participations rates, across both test in both years, is negative. This means that the higher the participation rate, the lower the test scores."
   ]
  },
  {
   "cell_type": "code",
   "execution_count": null,
   "metadata": {},
   "outputs": [],
   "source": [
    "# A function to create a subplot of histograms \n",
    "\n",
    "def subplot_histograms(dataframe, list_of_columns, list_of_titles, ylabel, xlabel, figtitle):\n",
    "    nrows = int(np.ceil(len(list_of_columns)/2)) # Makes sure you have enough rows\n",
    "    fig, ax = plt.subplots(nrows=nrows, ncols=2, figsize=(10, 10))  \n",
    "    ax = ax.ravel() # Ravel turns a matrix into a vector, which is easier to iterate\n",
    "    \n",
    "    \n",
    "    for i, column in enumerate(list_of_columns): # Gives us an index value to get into all our lists\n",
    "        ax[i].hist(dataframe[column]) # feel free to add more settings\n",
    "        ax[i].set_ylabel(ylabel, fontsize = 10)\n",
    "        ax[i].set_xlabel(xlabel, fontsize = 10)\n",
    "    for i, title in enumerate(list_of_titles):\n",
    "        ax[i].set_title(title, fontsize=12)\n",
    "    fig.suptitle(figtitle, size=16) \n",
    "    plt.tight_layout()\n",
    "    fig.subplots_adjust(top=.91)\n"
   ]
  },
  {
   "cell_type": "code",
   "execution_count": null,
   "metadata": {},
   "outputs": [],
   "source": [
    "# Create variables to intput into histogram function \n",
    "\n",
    "final_col = list(final_csv.columns)\n",
    "final_col = ['sat_total_18','act_composite_18', 'sat_total_17','act_composite_17']\n",
    "titles = ['SAT 2018 Total Scores', 'ACT 2018 Composite Scores', 'SAT 2017 Total Scores', 'ACT 2017 Composite Scores']"
   ]
  },
  {
   "cell_type": "code",
   "execution_count": null,
   "metadata": {},
   "outputs": [],
   "source": [
    "# SAT & ACT Total/Composite Scores in 2017 - 18\n",
    "\n",
    "subplot_histograms(final_csv, \n",
    "                   final_col, \n",
    "                   titles, \n",
    "                   \"# of States\", \"Range of Scores\", 'SAT & ACT Total/Composite Scores in 2017-18')\n"
   ]
  },
  {
   "cell_type": "markdown",
   "metadata": {},
   "source": [
    "The histograms are bimodal, indicating that students tend to perform either very poorly or very well."
   ]
  },
  {
   "cell_type": "code",
   "execution_count": null,
   "metadata": {
    "scrolled": false
   },
   "outputs": [],
   "source": [
    "# Participation rates for SAT & ACT in 2017-18\n",
    "\n",
    "participation_col = ['sat_participation_18', 'act_participation_18', 'sat_participation_17', 'act_participation_17']\n",
    "participation_titles = ['SAT 2018 Participation %', 'ACT 2018 Participation %', 'SAT 2017 Participation %', 'ACT 2017 Participation %']\n",
    "\n",
    "subplot_histograms(final_csv, participation_col, participation_titles, \"# of States\", \"Participation Rates (%)\", 'SAT & ACT Participation Rates in 2017-18')\n",
    "\n"
   ]
  },
  {
   "cell_type": "markdown",
   "metadata": {},
   "source": [
    "For the SAT, there are less states that have 100% participation rate, and even more states that have a lower participation rate. The opposite is true for the ACT. "
   ]
  },
  {
   "cell_type": "code",
   "execution_count": null,
   "metadata": {
    "scrolled": false
   },
   "outputs": [],
   "source": [
    "# Writing/Verbal scores for SAT & ACT in 2017-18\n",
    "\n",
    "english_scores_col = ['sat_ewb_18', 'sat_ewb_17', 'act_english_17']\n",
    "english_titles = ['SAT 2018 EWB Scores', 'SAT 2017 EWB Scores', 'ACT 2017 English Scores']\n",
    "\n",
    "subplot_histograms(final_csv, english_scores_col, english_titles, \"# of States\", \"Range of Writing/Verbal Scores\", 'SAT & ACT English Scores in 2017-18')\n"
   ]
  },
  {
   "cell_type": "markdown",
   "metadata": {},
   "source": [
    "For SAT EWB scores, the distribution is bimodal, meaning that students perform either very well or below average. The ACT distribution indicates that mode studnets perform poorly, but some students also perform average and very well."
   ]
  },
  {
   "cell_type": "code",
   "execution_count": null,
   "metadata": {},
   "outputs": [],
   "source": [
    "# Math scores for SAT & ACT in 2017-18\n",
    "\n",
    "math_scores_col = ['sat_math_18', 'sat_math_17', 'act_math_17']\n",
    "math_titles = ['SAT 2018 Math Scores', 'SAT 2017 Math Scores', 'ACT 2017 Math Scores']\n",
    "\n",
    "subplot_histograms(final_csv, math_scores_col, math_titles, \"# of States\", \"Range of Math Scores\", 'SAT & ACT Math Scores in 2017-18')\n"
   ]
  },
  {
   "cell_type": "markdown",
   "metadata": {},
   "source": [
    "For SAT Math scores, more students perform poorly, and only very few perform very well. The same goes for the ACT."
   ]
  },
  {
   "cell_type": "code",
   "execution_count": null,
   "metadata": {},
   "outputs": [],
   "source": [
    "# A function to create a subplot of scatterplots \n",
    "\n",
    "def subplot_scatter(dataframe, list_of_columns1, list_of_columns2, list_of_titles, ylabel, xlabel, figtitle):\n",
    "    nrows = int(np.ceil(len(list_of_columns1)/2)) # Makes sure you have enough rows\n",
    "    fig, ax = plt.subplots(nrows=nrows, ncols=2, figsize=(12, 14))  \n",
    "    ax = ax.ravel() # Ravel turns a matrix into a vector, which is easier to iterate  \n",
    "    \n",
    "    for i, (column1, column2) in enumerate(zip(x_axis_scatter, y_axis_scatter)):\n",
    "        ax[i].scatter(dataframe[column1], dataframe[column2]) \n",
    "        ax[i].set_xlabel(xlabel[i])\n",
    "        ax[i].set_ylabel(ylabel[i])\n",
    "    for i, title in enumerate(list_of_titles):\n",
    "        ax[i].set_title(title, fontsize=12)\n",
    "    fig.suptitle(figtitle, size=16) \n",
    "    plt.tight_layout()\n",
    "    fig.subplots_adjust(top=.93)"
   ]
  },
  {
   "cell_type": "code",
   "execution_count": null,
   "metadata": {},
   "outputs": [],
   "source": [
    "# Creat variables to input into the `subplot_scatter` function\n",
    "\n",
    "x_axis_scatter = ['act_participation_17','act_participation_18','sat_participation_18','sat_participation_17', 'sat_math_17', 'sat_ewb_17', 'sat_total_17', 'sat_total_17', 'act_composite_17']\n",
    "y_axis_scatter = ['act_composite_17','act_composite_18','sat_total_18','sat_total_17','act_math_17', 'act_english_17', 'act_composite_17', 'sat_total_18', 'act_composite_18']\n",
    "scatter_titles = ['ACT Participation Rates vs Composite Scores in 2017','ACT Participation Rates vs Composite Scores in 2018','SAT Participation Rates vs Total Scores in 2018','SAT Participation Rates vs Total Scores in 2017','SAT vs. ACT math scores for 2017', 'SAT vs. ACT verbal/reading scores for 2017', 'SAT vs. ACT total/composite scores for 2017', 'Total scores for SAT 2017 vs. 2018', 'Composite scores for ACT 2017 vs. 2018']\n",
    "x_axis_labels = ['Participation Rates (0%-100%)','Participation Rates (0%-100%)','Participation Rates (0%-100%)','Participation Rates (0%-100%)','SAT Math 2017', 'SAT EWB 2017', 'SAT Total 2017', 'SAT Total 2017', 'ACT Composite 2017']\n",
    "y_axis_slabels = ['Composite Scores (1-36)','Composite Scores (1-36)','Total Scores (400-600)','Total Scores (400-600)','ACT Math 2017', 'ACT English 2017', 'ACT Composite 2017', 'ACT Total 2018', 'ACT Composite 2018']"
   ]
  },
  {
   "cell_type": "code",
   "execution_count": null,
   "metadata": {},
   "outputs": [],
   "source": [
    "# ACT & SAT Correlation for All Data\n",
    "subplot_scatter(final_csv, x_axis_scatter, y_axis_scatter, scatter_titles, y_axis_slabels, x_axis_labels, 'SAT & ACT Correlation for All Data')\n"
   ]
  },
  {
   "cell_type": "markdown",
   "metadata": {},
   "source": [
    "One of the most significant takeaways from these scatterplots is witnessing a negative correlation between participation rates and test score performance. "
   ]
  },
  {
   "cell_type": "code",
   "execution_count": null,
   "metadata": {},
   "outputs": [],
   "source": [
    "# A function to create a subplot of comparative boxplots \n",
    "\n",
    "def subplot_boxplot(dataframe, box_1, box_2, list_of_titles, box_1_titles, box_2_titles, figtitle):\n",
    "    nrows = int(np.ceil(len(box_1)/2)) # Makes sure you have enough rows\n",
    "    fig, ax = plt.subplots(nrows=nrows, ncols=2, figsize=(10, 13))  \n",
    "    ax = ax.ravel() # Ravel turns a matrix into a vector, which is easier to iterate  \n",
    "    \n",
    "    for i, (boxplot_1, boxplot_2) in enumerate(zip(box_1, box_2)):\n",
    "        ax[i].boxplot([dataframe[boxplot_1],dataframe[boxplot_2]], widths=.7, labels = [box_1_titles[i], box_2_titles[i]] ) \n",
    "        for i, title in enumerate(list_of_titles):\n",
    "             ax[i].set_title(title, fontsize=12)\n",
    "    fig.suptitle(figtitle, size=16) \n",
    "    plt.tight_layout(pad=0.4, w_pad=0.5, h_pad=1.0)\n",
    "    fig.subplots_adjust(top=.93)\n"
   ]
  },
  {
   "cell_type": "code",
   "execution_count": null,
   "metadata": {},
   "outputs": [],
   "source": [
    "# Create variables to input into boxplot function \n",
    "\n",
    "box_1_list = ['act_composite_17', 'sat_total_17', 'act_participation_17', 'sat_participation_17', 'sat_math_17', 'sat_ewb_17' ]\n",
    "box_1_titles = ['ACT Composite 2017', 'SAT Total 2017', 'ACT Participation 2017', 'SAT Participation 2017', 'SAT Math 2017', 'SAT EWB 2017']\n",
    "box_2_list = ['act_composite_18', 'sat_total_18', 'act_participation_18', 'sat_participation_18', 'sat_math_18', 'sat_ewb_18']\n",
    "box_2_titles = ['ACT Composite 2018', 'SAT Total 2018', 'ACT Participation 2018', 'SAT Participation 2018', 'SAT Math 2018', 'SAT EWB 2018']\n",
    "box_titles = ['ACT Compositive 2017 vs 2018', 'SAT Total 2017 vs 2018', 'ACT Participation 2017 vs 2018', 'SAT Participation 2017 vs 2018', 'SAT Math 2017 vs 2018', 'SAT English 2017 vs 2018']"
   ]
  },
  {
   "cell_type": "code",
   "execution_count": null,
   "metadata": {
    "scrolled": false
   },
   "outputs": [],
   "source": [
    "# Boxplot Comparisons for SAT & ACT 2017-18 Scores & Participation Rates \n",
    "\n",
    "subplot_boxplot(final_csv, box_1_list, box_2_list, box_titles, box_1_titles, box_2_titles, 'Boxplot Comparisons for SAT & ACT 2017-18 Scores & Participation Rates')\n"
   ]
  },
  {
   "cell_type": "code",
   "execution_count": null,
   "metadata": {},
   "outputs": [],
   "source": [
    "# Create variables to input into a Folium map (see below)\n",
    "\n",
    "states_long_lat = pd.read_csv('./data/states_long_late.csv')"
   ]
  },
  {
   "cell_type": "code",
   "execution_count": null,
   "metadata": {},
   "outputs": [],
   "source": [
    "# Create lists of data to input into the maps below. \n",
    "\n",
    "longitude = list(states_long_lat['Long'])\n",
    "\n",
    "latitude = list(states_long_lat['Lat'])\n",
    "\n",
    "states = list(states_long_lat['State'])\n",
    "\n",
    "sat_2018_scores = list(final_csv['sat_total_18'])\n",
    "\n",
    "sat_2018_part = list(final_csv['sat_participation_18'])"
   ]
  },
  {
   "cell_type": "code",
   "execution_count": null,
   "metadata": {},
   "outputs": [],
   "source": [
    "# Mean total score of the nation. \n",
    "\n",
    "sum(sat_2018_scores)/len(sat_2018_scores)"
   ]
  },
  {
   "cell_type": "code",
   "execution_count": null,
   "metadata": {
    "scrolled": false
   },
   "outputs": [],
   "source": [
    "# Code modified from https://python-graph-gallery.com/313-bubble-map-with-folium/  \n",
    "# This map shows the correlation between SAT test scores and participation rates in 2018. \n",
    "# When a state's mean total score is less than the mean total score of the nation (1120) and the participation rate is above 50%, then the bubble is red.\n",
    "# When a state's mean total score is above  the mean total score of the nation (1120) and the participation rate is below 50%, then the bubble is green.\n",
    "# Bubble sizes correspond to test scores. \n",
    "\n",
    "map_2018 = pd.DataFrame({\n",
    "   'lat':latitude,\n",
    "   'lon':longitude,\n",
    "   'name':states,\n",
    "   'value':sat_2018_scores,\n",
    "   'participation':sat_2018_part\n",
    "})\n",
    "map_2018\n",
    " \n",
    "# Make an empty map\n",
    "m = folium.Map(location=[37, -96], tiles=\"Mapbox Bright\", zoom_start=4)\n",
    " \n",
    "# I can add marker one by one on the map\n",
    "for i, (scores, part_rate) in enumerate(zip(map_2018['value'], map_2018['participation'])):    \n",
    "    if (map_2018['value'][i] <= 1120) & (map_2018['participation'][i] >= .5):  \n",
    "        folium.Circle(\n",
    "            location=[map_2018.iloc[i]['lon'], map_2018.iloc[i]['lat']],\n",
    "            popup=str(list(map_2018.iloc[i][['name', 'value', 'participation']])),\n",
    "            radius=int(map_2018.iloc[i]['value']*70),\n",
    "            color='crimson',\n",
    "            fill=True,\n",
    "            fill_color='crimson'\n",
    "        ).add_to(m)\n",
    "    else:\n",
    "        folium.Circle(\n",
    "            location=[map_2018.iloc[i]['lon'], map_2018.iloc[i]['lat']],\n",
    "            popup=str(list(map_2018.iloc[i][['name', 'value', 'participation']])),\n",
    "            radius=int(map_2018.iloc[i]['value']*70),\n",
    "            color='green',\n",
    "            fill=True,\n",
    "            fill_color='green'\n",
    "        ).add_to(m)\n",
    " \n",
    "\n",
    "m.save('./maps/sat2018_participation_scores_corr_map.html')\n",
    "m"
   ]
  },
  {
   "cell_type": "markdown",
   "metadata": {},
   "source": [
    "***View real map when downloaded***\n",
    "![title](./maps/map1_sat18_corr.png)"
   ]
  },
  {
   "cell_type": "markdown",
   "metadata": {},
   "source": [
    "This map shows the correlation between SAT test scores and participation rates in 2018. When a state's mean total score is less than the mean total score of the nation (1120) and the participation rate is above 50%, then the bubble is red. When a state's mean total score is above  the mean total score of the nation (1120) and the participation rate is below 50%, then the bubble is green. Bubble sizes correspond to test scores."
   ]
  },
  {
   "cell_type": "code",
   "execution_count": null,
   "metadata": {
    "scrolled": false
   },
   "outputs": [],
   "source": [
    "# Code modified from https://python-graph-gallery.com/313-bubble-map-with-folium/\n",
    "# This map shows SAT test scores in 2018. \n",
    "# When a state's mean total score is less than the mean total score of the nation (1120), then the bubble is red.\n",
    "# When a state's mean total score is above  the mean total score of the nation (1120), then the bubble is green.\n",
    "# Bubble sizes correspond to test scores. \n",
    "\n",
    "map_2018 = pd.DataFrame({\n",
    "   'lat':latitude,\n",
    "   'lon':longitude,\n",
    "   'name':states,\n",
    "   'value':sat_2018_scores\n",
    "})\n",
    "map_2018\n",
    "\n",
    "# Make an empty map\n",
    "m1 = folium.Map(location=[37, -96], tiles=\"Mapbox Bright\", zoom_start=4)\n",
    " \n",
    "# I can add marker one by one on the map\n",
    "for i, scores in enumerate(map_2018['value']): \n",
    "    if map_2018['value'][i] <= 1120:  \n",
    "        folium.Circle(\n",
    "            location=[map_2018.iloc[i]['lon'], map_2018.iloc[i]['lat']],\n",
    "            popup=str(list(map_2018.iloc[i][['name', 'value']])),\n",
    "            radius=int(map_2018.iloc[i]['value']*70),\n",
    "            color='crimson',\n",
    "            fill=True,\n",
    "            fill_color='crimson'\n",
    "        ).add_to(m1)\n",
    "    else:\n",
    "        folium.Circle(\n",
    "            location=[map_2018.iloc[i]['lon'], map_2018.iloc[i]['lat']],\n",
    "            popup=str(list(map_2018.iloc[i][['name', 'value']])),\n",
    "            radius=int(map_2018.iloc[i]['value']*70),\n",
    "            color='green',\n",
    "            fill=True,\n",
    "            fill_color='green'\n",
    "        ).add_to(m1)\n",
    " \n",
    "\n",
    "m1.save('./maps/sat2018_high_low_scores_map.html')\n",
    "m1"
   ]
  },
  {
   "cell_type": "markdown",
   "metadata": {},
   "source": [
    "***View real map when downloaded***\n",
    "![title](./maps/map2_sat18_scores.png)"
   ]
  },
  {
   "cell_type": "markdown",
   "metadata": {},
   "source": [
    "This map shows SAT test scores in 2018. When a state's mean total score is less than the mean total score of the nation (1120), then the bubble is red. When a state's mean total score is above  the mean total score of the nation (1120), then the bubble is green. Bubble sizes correspond to test scores. "
   ]
  },
  {
   "cell_type": "code",
   "execution_count": null,
   "metadata": {},
   "outputs": [],
   "source": [
    "# Save States and SAT 2018 Scores to new variable. \n",
    "state_sat_total = final_csv[['state', 'sat_total_18']]\n"
   ]
  },
  {
   "cell_type": "code",
   "execution_count": null,
   "metadata": {},
   "outputs": [],
   "source": [
    "# Change all states to abbrevs. \n",
    "\n",
    "states = ['AL','AK', 'AZ', 'AR', 'CA', 'CO', 'CT', 'DE', 'DC', 'FL', 'GA', 'HI', 'ID', 'IL', 'IN', 'IA', 'KS', 'KY', 'LA', 'ME', 'MD', 'MA', 'MI', 'MN', 'MS', 'MO', 'MT', 'NE', 'NV', 'NH', 'NJ', 'NM', 'NY', 'NC', 'ND', 'OH', 'OK', 'OR', 'PA', 'RI', 'SC', 'SD', 'TN', 'TX', 'UT', 'VT', 'VA', 'WA', 'WV', 'WI', 'WY']\n",
    "\n",
    "state_sat_total.insert(0, 'states', states)"
   ]
  },
  {
   "cell_type": "code",
   "execution_count": null,
   "metadata": {
    "scrolled": true
   },
   "outputs": [],
   "source": [
    "# Drop the column with the full state name \n",
    "\n",
    "#state_sat_total.drop(columns=['state'], inplace=True)\n",
    "state_sat_total.drop('state', axis=1, inplace=True)"
   ]
  },
  {
   "cell_type": "code",
   "execution_count": null,
   "metadata": {},
   "outputs": [],
   "source": [
    "# Convert DataFrame to CSV (went into the csv and manually changed state names to abbrevs.)\n",
    "state_sat_total.to_csv(r'./data/state_sat_total_18.csv',index=False)\n"
   ]
  },
  {
   "cell_type": "code",
   "execution_count": null,
   "metadata": {},
   "outputs": [],
   "source": [
    "# Code modified from https://python-graph-gallery.com/292-choropleth-map-with-folium/\n",
    "# This map shows the total SAT scores in 2018 for each state.\n",
    "\n",
    "# Load the shape of the zone (US states)\n",
    "# Find the original file here: https://github.com/python-visualization/folium/tree/master/examples/data\n",
    "# You have to download this file and set the directory where you saved it\n",
    "state_geo = os.path.join('./maps', 'us-states.json')\n",
    " \n",
    "\n",
    "state_sat = os.path.join('./data', 'state_sat_total_18.csv')\n",
    "state_data = pd.read_csv(state_sat)\n",
    " \n",
    "# Initialize the map:\n",
    "m2 = folium.Map(location=[37, -96], zoom_start=4)\n",
    " \n",
    "# Add the color for the chloropleth:\n",
    "folium.Choropleth(\n",
    " geo_data=state_geo,\n",
    " name='choropleth',\n",
    " data=state_data,\n",
    " columns=['states', 'sat_total_18'],\n",
    " key_on='feature.id',\n",
    " fill_color='YlGn',\n",
    " fill_opacity=0.6,\n",
    " line_opacity=0.2,\n",
    " legend_name='SAT Total Scores'\n",
    ").add_to(m2)\n",
    "folium.LayerControl().add_to(m2)\n",
    " \n",
    "# Save to html\n",
    "m2.save('./maps/sat18_totalscores_map.html')\n",
    "m2"
   ]
  },
  {
   "cell_type": "markdown",
   "metadata": {},
   "source": [
    "***View real map when downloaded***\n",
    "![title](./maps/map3_sat18_scores_choropleth.png)"
   ]
  },
  {
   "cell_type": "markdown",
   "metadata": {},
   "source": [
    "This map shows the total SAT scores in 2018 for each state. States in the midwest tend to perform better on the SAT than the rest of the US, however, their participation rates are among the lowest. "
   ]
  },
  {
   "cell_type": "markdown",
   "metadata": {},
   "source": [
    "## Descriptive and Inferential Statistics"
   ]
  },
  {
   "cell_type": "markdown",
   "metadata": {},
   "source": [
    "#### The SAT and ACT datasets did not display normal distributions. \n",
    "- Across the board for participation rates and test scores, the distributions of the data tended to be bimodal or non-normal. That is, a majority of the data appeared at opposite ends of the distribution. For example, when observing the distribution of average SAT scores, students tended to perform either very poorly or very well. This is in contrast to a normal distribution where less students would have performed either very poorly or very well, and more students would have performed mediocrely. \n",
    "\n",
    "Let's take a closer look at the distriburions for Math and Reading scores, and Participation Rates for both tests in both years. \n",
    "- **Math**: In Math scores for both the SAT and ACT, students tended to perform very poorly. The distribution of scores are right skewed, meaning that a majority of the data appears on the left side of the distribution where the score range is lower. The range for Math scores in the SAT is 200 - 800. For students in the US, the maximum Math score achieved in 2017 was 651 and in 2018 was 655. Students performed closer to the minimum score than the maximum score. \n",
    "<br>\n",
    "<br>\n",
    "- **Reading**: In the Reading scores for the SAT in both years, the distribution of the data is bimodal. That is, students tended to perform either very poorly or very well. On the other hand, the ACT English scores in 2017 appears to be more evenly distributed but slightly skewed to the left. More students performed mediocrely, and only a few students performed very well and fewer performed very poorly. \n",
    "<br>\n",
    "<br>\n",
    "- **Participation Rates**: The distributions of the participation rates for the SAT in both years is bimodal, with a tendency for participation rates to be the far low end of the participation rates. A majority of states experienced extremely low participation rates on the SAT, and a few experienced extremely high participation rates. In contracts, the distribution of participation for the ACT in both years was also bimodal, but there were much more states that experienced higher participation rates than lower. \n",
    "\n",
    "**It does not make sense to conduct statistical inference** given these data specifically. The datasets for both tests provides data for all students in all states (and DC). Therefore, we are analyzing a population and not a sample. Statistical inference is conducted only when the data is a sampling of the population."
   ]
  },
  {
   "cell_type": "code",
   "execution_count": null,
   "metadata": {},
   "outputs": [],
   "source": [
    "#create new variable for final_csv.describe \n",
    "final_stats = final_csv.describe()\n",
    "\n",
    "final_stats.describe().round(2)"
   ]
  },
  {
   "cell_type": "markdown",
   "metadata": {},
   "source": [
    "## External Research"
   ]
  },
  {
   "cell_type": "markdown",
   "metadata": {},
   "source": [
    "In 2018, 2.1 million students from the class of 2018 took the SAT -- the highest ever.$^{1}$ In fact, there was a 27% increase in participation rates from the previous year.$^{2}$ SAT participation rates are so high that as of 2018, the test holds the title for \"most widely used college admission test,\" beating the ACT where 1.91 million students took that test in the same year.$^{3}$  While the SAT can boast of this achievement, the data shows that there is a negative correlation between participation rates and test scores. That is, the higher the participation rate amongst all states and DC, the lower the average student test scores. This is alarming considering that high SAT scores are demanded by most universities and colleges. Contrary to the College Board's claim that the SAT offers \"greater access and opportunity\" for students who take their test, the more widely their test is offered, the higher the chances are of more students performing poorly. One notable example is Washington, DC, where students had among the highest participation rates of all states in 2017 - 2018, but earned the lowest test scores. Conversely, Minnesota had participation rates in the bottom 10 on a national scale in 2017-18, but earned the highest test scores. Taking a closer look at test scores, students were either performed very poorly or very well. But there were more students who performed poorly than well. If taking the SAT is a significant contributor to college acceptance, the SAT itself is posing a burden to students' access to college. Instead of focusing on increasing participation rates, the SAT show focus more test prep materials.  \n",
    "\n",
    "Citations\n",
    "<br>\n",
    "1: https://www.collegeboard.org/releases/2018/more-than-2-million-students-in-class-of-2018-took-sat-highest-ever\n",
    "<br>\n",
    "2: https://www.edweek.org/ew/articles/2018/10/31/sat-scores-rise-as-number-of-test-takers.html\n",
    "<br>\n",
    "3: https://www.washingtonpost.com/education/2018/10/23/sat-reclaims-title-most-widely-used-college-admission-test/?utm_term=.c1ca18b8b596"
   ]
  },
  {
   "cell_type": "markdown",
   "metadata": {},
   "source": [
    "## Conclusions and Recommendations"
   ]
  },
  {
   "cell_type": "markdown",
   "metadata": {},
   "source": [
    "The College Board focusing on increasing participation rates is equivalent to the College Board assisting in  deterioration of test scores. There is a distinct negative correlation between participation rates and test scores, where the higher the participation rates, the lower the test scores (and vice versa). If the College Board decides to focus solely on increasing participation rates, thereby achieving an ideal of a 100% participation rate, a majority of US high schoolers will perform very poorly on the test.  \n",
    "<br>\n",
    "**Recommendations**\n",
    "<br>\n",
    "Therefore in order to achieve sustainable growth and be a resource trusted by students nationwide (i.e., its primary customers), I recommend the following:  \n",
    "- Shift focus away from participation and more towards improving access to test prep resources. \n",
    "- Create better test prep material for states with highest participation rates, particularly in the East Coast where there is a concentration of states with high performance and low test scores. "
   ]
  }
 ],
 "metadata": {
  "anaconda-cloud": {},
  "kernelspec": {
   "display_name": "Python 3",
   "language": "python",
   "name": "python3"
  },
  "language_info": {
   "codemirror_mode": {
    "name": "ipython",
    "version": 3
   },
   "file_extension": ".py",
   "mimetype": "text/x-python",
   "name": "python",
   "nbconvert_exporter": "python",
   "pygments_lexer": "ipython3",
   "version": "3.6.8"
  }
 },
 "nbformat": 4,
 "nbformat_minor": 2
}
